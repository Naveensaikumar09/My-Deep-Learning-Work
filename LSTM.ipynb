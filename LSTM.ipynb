{
 "cells": [
  {
   "cell_type": "markdown",
   "id": "607930f8",
   "metadata": {},
   "source": [
    "## Long Short Term Memory (LSTM) Model"
   ]
  },
  {
   "cell_type": "code",
   "execution_count": 2,
   "id": "e3fd0070",
   "metadata": {},
   "outputs": [],
   "source": [
    "import numpy as np\n",
    "import pandas as pd\n",
    "import tensorflow as tf\n",
    "from sklearn.preprocessing import MinMaxScaler"
   ]
  },
  {
   "cell_type": "code",
   "execution_count": 3,
   "id": "22ac469e",
   "metadata": {},
   "outputs": [
    {
     "name": "stdout",
     "output_type": "stream",
     "text": [
      "Step 1: Creating Temperature Dataset\n",
      "   Max Temp (°C)  Min Temp (°C)\n",
      "0             38             22\n",
      "1             38             22\n",
      "2             38             23\n",
      "3             39             23\n",
      "4             39             24\n"
     ]
    }
   ],
   "source": [
    "print(\"Step 1: Creating Temperature Dataset\") \n",
    "data = {\n",
    "\"Max Temp (°C)\": [38, 38, 38, 39, 39, 39, 39, 39, 39, 39, 39, 39, 39, 39, 39, 39, 40, 40, 40, 40, 40, 40, 40, 40, 40, 40, 40, 40, 40, 40],\n",
    "\"Min Temp (°C)\": [22, 22, 23, 23, 24, 23, 24, 24, 23, 24, 24, 24, 24, 24, 24, 24, 24, 24, 24, 24, 24, 24, 24, 24, 24, 24, 24, 24, 24, 24]\n",
    "}\n",
    "df = pd.DataFrame(data)\n",
    "print(df.head())\n"
   ]
  },
  {
   "cell_type": "code",
   "execution_count": 4,
   "id": "32e55c0c",
   "metadata": {},
   "outputs": [
    {
     "name": "stdout",
     "output_type": "stream",
     "text": [
      "Step 2: Normalizing Data\n",
      "[[0.  0. ]\n",
      " [0.  0. ]\n",
      " [0.  0.5]\n",
      " [0.5 0.5]\n",
      " [0.5 1. ]]\n"
     ]
    }
   ],
   "source": [
    "print(\"Step 2: Normalizing Data\")\n",
    "scaler = MinMaxScaler()\n",
    "temp_scaled = scaler.fit_transform(df)\n",
    "print(temp_scaled[:5])"
   ]
  },
  {
   "cell_type": "code",
   "execution_count": 5,
   "id": "4c674ef8",
   "metadata": {},
   "outputs": [
    {
     "name": "stdout",
     "output_type": "stream",
     "text": [
      "Step 3: Preparing Sequences\n",
      "Sample X_seq: [[[0.  0. ]\n",
      "  [0.  0. ]\n",
      "  [0.  0.5]]\n",
      "\n",
      " [[0.  0. ]\n",
      "  [0.  0.5]\n",
      "  [0.5 0.5]]]\n",
      "Sample y_seq: [[0.5 0.5]\n",
      " [0.5 1. ]]\n"
     ]
    }
   ],
   "source": [
    "print(\"Step 3: Preparing Sequences\")\n",
    "seq_length = 3\n",
    "X_seq = [temp_scaled[i:i+seq_length] for i in range(len(temp_scaled) - seq_length)]\n",
    "y_seq = [temp_scaled[i+seq_length] for i in range(len(temp_scaled) - seq_length)] \n",
    "X_seq, y_seq = np.array(X_seq), np.array(y_seq)\n",
    "print(\"Sample X_seq:\", X_seq[:2])\n",
    "print(\"Sample y_seq:\", y_seq[:2])"
   ]
  },
  {
   "cell_type": "code",
   "execution_count": 6,
   "id": "de3138bb",
   "metadata": {},
   "outputs": [
    {
     "name": "stdout",
     "output_type": "stream",
     "text": [
      "Step 4: Building and Training LSTM Model\n"
     ]
    },
    {
     "name": "stderr",
     "output_type": "stream",
     "text": [
      "/Users/poojapatchigulla/anaconda3/lib/python3.11/site-packages/keras/src/layers/rnn/rnn.py:200: UserWarning: Do not pass an `input_shape`/`input_dim` argument to a layer. When using Sequential models, prefer using an `Input(shape)` object as the first layer in the model instead.\n",
      "  super().__init__(**kwargs)\n"
     ]
    },
    {
     "name": "stdout",
     "output_type": "stream",
     "text": [
      "Model training complete.\n"
     ]
    }
   ],
   "source": [
    "print(\"Step 4: Building and Training LSTM Model\") \n",
    "model = tf.keras.Sequential([\n",
    "tf.keras.layers.LSTM(50, input_shape=(seq_length, 2)),\n",
    "tf.keras.layers.Dense(2)\n",
    "])\n",
    "model.compile(optimizer='adam', loss='mse') \n",
    "model.fit(X_seq, y_seq, epochs=20, batch_size=8, verbose=0) \n",
    "print(\"Model training complete.\")"
   ]
  },
  {
   "cell_type": "code",
   "execution_count": 7,
   "id": "91915eca",
   "metadata": {},
   "outputs": [
    {
     "name": "stdout",
     "output_type": "stream",
     "text": [
      "Step 5: Predicting Last Day Temperatures\n",
      "\u001b[1m1/1\u001b[0m \u001b[32m━━━━━━━━━━━━━━━━━━━━\u001b[0m\u001b[37m\u001b[0m \u001b[1m0s\u001b[0m 88ms/step\n",
      "Predicted (Max, Min): [39.812405 24.063187]\n",
      "Actual (Max, Min): [40. 24.]\n",
      "Error (Max, Min): [0.18759537 0.06318665]\n"
     ]
    }
   ],
   "source": [
    "print(\"Step 5: Predicting Last Day Temperatures\")\n",
    "predicted_temp = scaler.inverse_transform(model.predict(X_seq[-1].reshape(1, seq_length, 2)))\n",
    "actual_temp = scaler.inverse_transform(y_seq[-1].reshape(1, -1)) \n",
    "error = np.abs(predicted_temp - actual_temp)\n",
    "print(\"Predicted (Max, Min):\", predicted_temp[0]) \n",
    "print(\"Actual (Max, Min):\", actual_temp[0])\n",
    "print(\"Error (Max, Min):\", error[0])"
   ]
  },
  {
   "cell_type": "code",
   "execution_count": null,
   "id": "debfa3ae",
   "metadata": {},
   "outputs": [],
   "source": []
  }
 ],
 "metadata": {
  "kernelspec": {
   "display_name": "Python 3 (ipykernel)",
   "language": "python",
   "name": "python3"
  },
  "language_info": {
   "codemirror_mode": {
    "name": "ipython",
    "version": 3
   },
   "file_extension": ".py",
   "mimetype": "text/x-python",
   "name": "python",
   "nbconvert_exporter": "python",
   "pygments_lexer": "ipython3",
   "version": "3.11.11"
  }
 },
 "nbformat": 4,
 "nbformat_minor": 5
}
