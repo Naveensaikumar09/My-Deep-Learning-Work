{
 "cells": [
  {
   "cell_type": "code",
   "execution_count": 15,
   "id": "9768cafe-11c8-4220-9780-00926fd7a365",
   "metadata": {},
   "outputs": [],
   "source": [
    "import numpy as np"
   ]
  },
  {
   "cell_type": "code",
   "execution_count": 17,
   "id": "d12ee7ed-9ec3-4073-8e6a-bb0c9091e6f1",
   "metadata": {},
   "outputs": [],
   "source": [
    "def step(sum):\n",
    "    if sum>=0:\n",
    "        return 1\n",
    "    else:\n",
    "        return 0\n",
    "def perceptron(X,Y):\n",
    "    l=0.1\n",
    "    W=np.zeros(X.shape[1])\n",
    "    b=np.array([0])\n",
    "    for ep in range(10):\n",
    "        for i in range(X.shape[0]):\n",
    "            sum=np.dot(W,X[i])+b\n",
    "            Y_pred=step(sum)\n",
    "            E=Y[i]-Y_pred\n",
    "            if E!=0:\n",
    "                W=W+l*E*X[i]\n",
    "                b=b+l*E\n",
    "                print(W,b)\n",
    "    return W,b"
   ]
  },
  {
   "cell_type": "code",
   "execution_count": 19,
   "id": "49dffa44-6f89-4392-b6e0-800175418a0b",
   "metadata": {},
   "outputs": [
    {
     "name": "stdout",
     "output_type": "stream",
     "text": [
      "[0. 0.] [-0.1]\n",
      "[0.1 0.1] [0.]\n",
      "[0.1 0.1] [-0.1]\n",
      "[0.1 0. ] [-0.2]\n",
      "[0.2 0.1] [-0.1]\n",
      "[0.2 0. ] [-0.2]\n",
      "[0.1 0. ] [-0.3]\n",
      "[0.2 0.1] [-0.2]\n",
      "[0 0] 0 0\n",
      "[0 1] 0 0\n",
      "[1 0] 0 0\n",
      "[1 1] 1 1\n"
     ]
    }
   ],
   "source": [
    "X=np.array([[0,0],[0,1],[1,0],[1,1]])\n",
    "Y=np.array([0,0,0,1])\n",
    "l=0.1\n",
    "W,b = perceptron(X,Y)\n",
    "for i in range(X.shape[0]):\n",
    "    sum=np.dot(W,X[i])+b\n",
    "    Y_pred=step(sum)\n",
    "    print(X[i],Y_pred,Y[i])"
   ]
  },
  {
   "cell_type": "code",
   "execution_count": 21,
   "id": "6cb7de6c-1fb3-4928-ad7a-5d29547bbeba",
   "metadata": {},
   "outputs": [
    {
     "name": "stdout",
     "output_type": "stream",
     "text": [
      "[0. 0. 0.] [-0.1]\n",
      "[0.  0.  0.1] [0.]\n",
      "[0.  0.  0.1] [-0.1]\n",
      "[0.  0.1 0.1] [0.]\n",
      "[0.  0.1 0.1] [-0.1]\n",
      "[0.1 0.1 0.1] [0.]\n",
      "[0.1 0.1 0.1] [-0.1]\n",
      "[0 0 0] 0 0\n",
      "[0 0 1] 1 1\n",
      "[0 1 0] 1 1\n",
      "[0 1 1] 1 1\n",
      "[1 0 0] 1 1\n",
      "[1 0 1] 1 1\n",
      "[1 1 0] 1 1\n",
      "[1 1 1] 1 1\n"
     ]
    }
   ],
   "source": [
    "X=np.array([[0,0,0],[0,0,1],[0,1,0],[0,1,1],[1,0,0],[1,0,1],[1,1,0],[1,1,1]])\n",
    "Y=np.array([0,1,1,1,1,1,1,1])\n",
    "l=0.1\n",
    "W,b = perceptron(X,Y)\n",
    "for i in range(X.shape[0]):\n",
    "    sum=np.dot(W,X[i])+b\n",
    "    Y_pred=step(sum)\n",
    "    print(X[i],Y_pred,Y[i])"
   ]
  },
  {
   "cell_type": "code",
   "execution_count": null,
   "id": "9b3a19fe-f331-4344-a5a5-21ae8ef42f77",
   "metadata": {},
   "outputs": [],
   "source": []
  }
 ],
 "metadata": {
  "kernelspec": {
   "display_name": "Python 3 (ipykernel)",
   "language": "python",
   "name": "python3"
  },
  "language_info": {
   "codemirror_mode": {
    "name": "ipython",
    "version": 3
   },
   "file_extension": ".py",
   "mimetype": "text/x-python",
   "name": "python",
   "nbconvert_exporter": "python",
   "pygments_lexer": "ipython3",
   "version": "3.11.7"
  }
 },
 "nbformat": 4,
 "nbformat_minor": 5
}
