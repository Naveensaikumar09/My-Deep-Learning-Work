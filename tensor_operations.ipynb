{
 "cells": [
  {
   "cell_type": "code",
   "execution_count": 1,
   "id": "084aa6dc-be38-467d-b044-6f987f76f642",
   "metadata": {},
   "outputs": [],
   "source": [
    "# ROLL NO:22341A0590\n",
    "import tensorflow as tf"
   ]
  },
  {
   "cell_type": "code",
   "execution_count": 2,
   "id": "0eef7d27-c6e9-4103-8aa3-bb28448cd6ba",
   "metadata": {},
   "outputs": [
    {
     "name": "stdout",
     "output_type": "stream",
     "text": [
      "Scalar:  tf.Tensor(42, shape=(), dtype=int32)\n",
      "Vector:  tf.Tensor([1 2 3], shape=(3,), dtype=int32)\n",
      "Matrix:\n",
      "  tf.Tensor(\n",
      "[[1 2]\n",
      " [3 4]], shape=(2, 2), dtype=int32)\n",
      "3d tensor:\n",
      "  tf.Tensor(\n",
      "[[[1 2]\n",
      "  [3 4]\n",
      "  [5 6]\n",
      "  [7 8]]], shape=(1, 4, 2), dtype=int32)\n"
     ]
    }
   ],
   "source": [
    "#creating tensors\n",
    "scalar=tf.constant(42)\n",
    "vector=tf.constant([1,2,3])\n",
    "matrix=tf.constant([[1,2],[3,4]])\n",
    "tensor_3d=tf.constant([[[1,2],[3,4],[5,6],[7,8]]])\n",
    "\n",
    "print(\"Scalar: \",scalar)\n",
    "print(\"Vector: \",vector)\n",
    "print(\"Matrix:\\n \",matrix)\n",
    "print(\"3d tensor:\\n \",tensor_3d)"
   ]
  },
  {
   "cell_type": "code",
   "execution_count": 3,
   "id": "6cf9c605-c439-4308-aa28-7d47042010b5",
   "metadata": {},
   "outputs": [
    {
     "name": "stdout",
     "output_type": "stream",
     "text": [
      "Attributes of tensors:\n",
      "Shape of matrix: (2, 2)\n",
      "Rank of 3d tensor: tf.Tensor(3, shape=(), dtype=int32)\n",
      "Data type of vector: <dtype: 'int32'>\n"
     ]
    }
   ],
   "source": [
    "#Attributes\n",
    "print(\"Attributes of tensors:\")\n",
    "print(\"Shape of matrix:\",matrix.shape)\n",
    "print(\"Rank of 3d tensor:\",tf.rank(tensor_3d))\n",
    "print(\"Data type of vector:\",vector.dtype)"
   ]
  },
  {
   "cell_type": "code",
   "execution_count": 4,
   "id": "6cdb920e-a5b3-403d-80fb-d9f053c7ea55",
   "metadata": {},
   "outputs": [
    {
     "name": "stdout",
     "output_type": "stream",
     "text": [
      "Addition:  tf.Tensor(\n",
      "[[ 6  8]\n",
      " [10 12]], shape=(2, 2), dtype=int32)\n",
      "Subtraction tf.Tensor(\n",
      "[[-4 -4]\n",
      " [-4 -4]], shape=(2, 2), dtype=int32)\n",
      "Elemnent wise multiplication:  tf.Tensor(\n",
      "[[ 5 12]\n",
      " [21 32]], shape=(2, 2), dtype=int32)\n",
      "Division:  tf.Tensor(\n",
      "[[0.2        0.33333333]\n",
      " [0.42857143 0.5       ]], shape=(2, 2), dtype=float64)\n"
     ]
    }
   ],
   "source": [
    "#Arithmetic Operations\n",
    "a=tf.constant([[1,2],[3,4]])\n",
    "b=tf.constant([[5,6],[7,8]])\n",
    "add_result=tf.add(a,b)\n",
    "sub_result=tf.subtract(a,b)\n",
    "mul_result=tf.multiply(a,b)\n",
    "div_result=tf.divide(a,b)\n",
    "print(\"Addition: \",add_result)\n",
    "print(\"Subtraction\",sub_result)\n",
    "print(\"Elemnent wise multiplication: \",mul_result)\n",
    "print(\"Division: \",div_result)"
   ]
  },
  {
   "cell_type": "code",
   "execution_count": 5,
   "id": "aba96a3b-9a4d-4fa9-8a4f-94b898253db3",
   "metadata": {},
   "outputs": [
    {
     "name": "stdout",
     "output_type": "stream",
     "text": [
      "Reshaped Tensor:  tf.Tensor(\n",
      "[[1 2 3]\n",
      " [4 5 6]], shape=(2, 3), dtype=int32)\n",
      "Sliced Tensor:  tf.Tensor(\n",
      "[[1 2]\n",
      " [4 5]], shape=(2, 2), dtype=int32)\n"
     ]
    }
   ],
   "source": [
    "#Reashaping and Slicing\n",
    "t=tf.constant([1,2,3,4,5,6])\n",
    "reshaped_tensor=tf.reshape(t,[2,3])\n",
    "sliced_tensor=reshaped_tensor[:,:2]\n",
    "print(\"Reshaped Tensor: \",reshaped_tensor)\n",
    "print(\"Sliced Tensor: \",sliced_tensor)"
   ]
  },
  {
   "cell_type": "code",
   "execution_count": 6,
   "id": "e1dab378-1ea3-4cd4-bcb9-9f27ec19a5c0",
   "metadata": {},
   "outputs": [
    {
     "name": "stdout",
     "output_type": "stream",
     "text": [
      "Sum of elements:  tf.Tensor([3 7], shape=(2,), dtype=int32)\n",
      "Min of elements:  tf.Tensor(1, shape=(), dtype=int32)\n",
      "Max of elements: tf.Tensor(4, shape=(), dtype=int32)\n"
     ]
    }
   ],
   "source": [
    "#Aggregation\n",
    "matrix=tf.constant([[1,2],[3,4]])\n",
    "sum_result=tf.reduce_sum(matrix,axis=1)\n",
    "min_result=tf.reduce_min(matrix)\n",
    "max_result=tf.reduce_max(matrix)\n",
    "print(\"Sum of elements: \",sum_result)\n",
    "print(\"Min of elements: \",min_result)\n",
    "print(\"Max of elements:\",max_result)"
   ]
  },
  {
   "cell_type": "code",
   "execution_count": 7,
   "id": "ff8d5839-9336-43c9-83bc-1ff443dd55b4",
   "metadata": {},
   "outputs": [
    {
     "name": "stdout",
     "output_type": "stream",
     "text": [
      "ReLU Output:\n",
      " tf.Tensor(\n",
      "[[0. 0. 1.]\n",
      " [2. 0. 4.]], shape=(2, 3), dtype=float32)\n",
      "Sigmoid Output:\n",
      " tf.Tensor(\n",
      "[[0.26894143 0.5        0.7310586 ]\n",
      " [0.8807971  0.04742587 0.98201376]], shape=(2, 3), dtype=float32)\n"
     ]
    }
   ],
   "source": [
    "#Activation Functions\n",
    "input_tensor = tf.constant([[-1.0, 0.0, 1.0], [2.0, -3.0, 4.0]]) \n",
    "relu_output = tf.nn.relu(input_tensor) \n",
    "sigmoid_output = tf.nn.sigmoid(input_tensor) \n",
    "print(\"ReLU Output:\\n\", relu_output) \n",
    "print(\"Sigmoid Output:\\n\", sigmoid_output)"
   ]
  },
  {
   "cell_type": "code",
   "execution_count": 8,
   "id": "4630de45-fe3f-42bf-9afb-b1b8810a785b",
   "metadata": {},
   "outputs": [
    {
     "name": "stdout",
     "output_type": "stream",
     "text": [
      "tf.Tensor(4.5395806e-05, shape=(), dtype=float32)\n"
     ]
    }
   ],
   "source": [
    "x=tf.Variable(10.0)\n",
    "with tf.GradientTape() as tape:\n",
    "    y1=x**2\n",
    "    y2=1/(1+tf.exp(-x))\n",
    "print(tape.gradient(y2,x))\n"
   ]
  },
  {
   "cell_type": "code",
   "execution_count": null,
   "id": "c2517182-76c7-4d7e-9f61-473a5577e281",
   "metadata": {},
   "outputs": [],
   "source": []
  },
  {
   "cell_type": "code",
   "execution_count": null,
   "id": "eb734229-64bf-4147-ae52-1298e20da7ef",
   "metadata": {},
   "outputs": [],
   "source": []
  }
 ],
 "metadata": {
  "kernelspec": {
   "display_name": "Python 3 (ipykernel)",
   "language": "python",
   "name": "python3"
  },
  "language_info": {
   "codemirror_mode": {
    "name": "ipython",
    "version": 3
   },
   "file_extension": ".py",
   "mimetype": "text/x-python",
   "name": "python",
   "nbconvert_exporter": "python",
   "pygments_lexer": "ipython3",
   "version": "3.11.7"
  }
 },
 "nbformat": 4,
 "nbformat_minor": 5
}
