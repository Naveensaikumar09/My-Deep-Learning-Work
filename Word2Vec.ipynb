{
 "cells": [
  {
   "cell_type": "code",
   "execution_count": 3,
   "id": "1cc21792-cfbc-40e7-8f69-e24c0106a451",
   "metadata": {},
   "outputs": [],
   "source": [
    "from gensim.models import Word2Vec"
   ]
  },
  {
   "cell_type": "code",
   "execution_count": 5,
   "id": "dbc3cddc-620d-47c7-b0a5-0acf4612694e",
   "metadata": {},
   "outputs": [],
   "source": [
    "import numpy as np\n",
    "from tensorflow.keras.preprocessing.text import Tokenizer "
   ]
  },
  {
   "cell_type": "code",
   "execution_count": 11,
   "id": "deaa8917-08c6-47d7-982e-963669ee4545",
   "metadata": {},
   "outputs": [],
   "source": [
    "sentences = [\"I love AI\", \"AI is powerful\", \"I love deep learning\"] \n",
    "tokenizer = Tokenizer() \n",
    "tokenizer.fit_on_texts(sentences) \n",
    "tokenized_sentences = [sentence.split() for sentence in sentences] \n",
    "word2vec_model = Word2Vec(sentences=tokenized_sentences, vector_size=10, window=2, min_count=1, sg=0)"
   ]
  },
  {
   "cell_type": "code",
   "execution_count": 13,
   "id": "b04dc454-4f1e-4ea3-bbf1-4e5227dd0547",
   "metadata": {},
   "outputs": [
    {
     "name": "stdout",
     "output_type": "stream",
     "text": [
      "[-0.0960355   0.05007293 -0.08759586 -0.04391825 -0.000351   -0.00296181\n",
      " -0.0766124   0.09614743  0.04982058  0.09233143]\n"
     ]
    }
   ],
   "source": [
    "print(word2vec_model.wv['deep'])"
   ]
  },
  {
   "cell_type": "code",
   "execution_count": 17,
   "id": "dfa6386a-25ff-4f89-95a0-26a3b424720e",
   "metadata": {},
   "outputs": [
    {
     "name": "stdout",
     "output_type": "stream",
     "text": [
      "[('AI', 0.5436006188392639), ('I', 0.3293722867965698), ('is', -0.1799871027469635), ('learning', -0.21133743226528168), ('powerful', -0.38205233216285706), ('deep', -0.5381841063499451)]\n"
     ]
    }
   ],
   "source": [
    "print(word2vec_model.wv.most_similar(\"love\"))"
   ]
  },
  {
   "cell_type": "code",
   "execution_count": null,
   "id": "d713c5c6-32d5-43aa-8e8a-5bfa75b7a221",
   "metadata": {},
   "outputs": [],
   "source": []
  },
  {
   "cell_type": "code",
   "execution_count": null,
   "id": "8f7c72c7-7622-4e8e-9571-7c6445e3d83c",
   "metadata": {},
   "outputs": [],
   "source": []
  },
  {
   "cell_type": "code",
   "execution_count": null,
   "id": "6b67cc5e-7622-4d0f-b869-5dfcfe0d65e3",
   "metadata": {},
   "outputs": [],
   "source": []
  }
 ],
 "metadata": {
  "kernelspec": {
   "display_name": "Python 3 (ipykernel)",
   "language": "python",
   "name": "python3"
  },
  "language_info": {
   "codemirror_mode": {
    "name": "ipython",
    "version": 3
   },
   "file_extension": ".py",
   "mimetype": "text/x-python",
   "name": "python",
   "nbconvert_exporter": "python",
   "pygments_lexer": "ipython3",
   "version": "3.11.7"
  }
 },
 "nbformat": 4,
 "nbformat_minor": 5
}
