{
 "cells": [
  {
   "cell_type": "code",
   "execution_count": 1,
   "id": "77e1aa5d-d518-49ef-be9a-3a96e6d3c220",
   "metadata": {},
   "outputs": [],
   "source": [
    "import numpy as np"
   ]
  },
  {
   "cell_type": "code",
   "execution_count": 7,
   "id": "f33c8048-ac29-470c-810b-20230453bfb8",
   "metadata": {},
   "outputs": [],
   "source": [
    "tensor_0d=np.array(5)\n",
    "tensor_1d=np.array([1,2,3,4,5])\n",
    "tensor_2d=np.array([[1,2,3],[4,5,6]])\n",
    "mydata=np.arange(1,25)\n",
    "tensor_3d=mydata.reshape((2,3,4))"
   ]
  },
  {
   "cell_type": "code",
   "execution_count": 15,
   "id": "961d92f0-744c-4871-becb-5258a21a0de5",
   "metadata": {},
   "outputs": [
    {
     "name": "stdout",
     "output_type": "stream",
     "text": [
      "tensor_0d, dim 0\n",
      "tensor_0d, shape ()\n"
     ]
    }
   ],
   "source": [
    "print(\"tensor_0d, dim\",tensor_0d.ndim)\n",
    "print(\"tensor_0d, shape\",tensor_0d.shape)"
   ]
  },
  {
   "cell_type": "code",
   "execution_count": 17,
   "id": "bc6392b0-2e2c-4783-a814-0b4874b87adb",
   "metadata": {},
   "outputs": [
    {
     "name": "stdout",
     "output_type": "stream",
     "text": [
      "tensor_1d, dim 1\n",
      "tensor_1d, shape (5,)\n"
     ]
    }
   ],
   "source": [
    "print(\"tensor_1d, dim\",tensor_1d.ndim)\n",
    "print(\"tensor_1d, shape\",tensor_1d.shape)"
   ]
  },
  {
   "cell_type": "code",
   "execution_count": 19,
   "id": "7f217d8e-9c5b-4287-9b90-b148894b9fa0",
   "metadata": {},
   "outputs": [
    {
     "name": "stdout",
     "output_type": "stream",
     "text": [
      "tensor_2d, dim 2\n",
      "tensor_2d, shape (2, 3)\n"
     ]
    }
   ],
   "source": [
    "print(\"tensor_2d, dim\",tensor_2d.ndim)\n",
    "print(\"tensor_2d, shape\",tensor_2d.shape)"
   ]
  },
  {
   "cell_type": "code",
   "execution_count": 21,
   "id": "007f3902-a1eb-4067-9b0c-95c3d26a1a42",
   "metadata": {},
   "outputs": [
    {
     "name": "stdout",
     "output_type": "stream",
     "text": [
      "tensor_3d, dim 3\n",
      "tensor_3d, shape (2, 3, 4)\n"
     ]
    }
   ],
   "source": [
    "print(\"tensor_3d, dim\",tensor_3d.ndim)\n",
    "print(\"tensor_3d, shape\",tensor_3d.shape)"
   ]
  },
  {
   "cell_type": "code",
   "execution_count": 37,
   "id": "a63dd9cb-d255-4288-8a33-bb3c04b0d6b1",
   "metadata": {},
   "outputs": [
    {
     "name": "stdout",
     "output_type": "stream",
     "text": [
      "t_1d , dim 1\n",
      "t_1d , shape (5,)\n"
     ]
    }
   ],
   "source": [
    "#creating numpy with random values\n",
    "t_1d=np.random.rand(5)\n",
    "print(\"t_1d , dim\",t_1d.ndim)\n",
    "print(\"t_1d , shape\",t_1d.shape)"
   ]
  },
  {
   "cell_type": "code",
   "execution_count": 53,
   "id": "3dbc08d9-6236-4d2d-ac6a-71327bec7554",
   "metadata": {},
   "outputs": [
    {
     "name": "stdout",
     "output_type": "stream",
     "text": [
      "t_2d , dim 2\n",
      "t_2d , shape (2, 5)\n"
     ]
    }
   ],
   "source": [
    "data=np.random.rand(10)\n",
    "t_2d=data.reshape((2,5))\n",
    "print(\"t_2d , dim\",t_2d.ndim)\n",
    "print(\"t_2d , shape\",t_2d.shape)"
   ]
  },
  {
   "cell_type": "code",
   "execution_count": 57,
   "id": "cb6ef3fb-afa1-447e-9850-645779edfdcb",
   "metadata": {},
   "outputs": [
    {
     "name": "stdout",
     "output_type": "stream",
     "text": [
      "t_3d , dim 3\n",
      "t_3d , shape (2, 3, 2)\n"
     ]
    }
   ],
   "source": [
    "data=np.random.rand(12)\n",
    "t_3d=data.reshape((2,3,2))\n",
    "print(\"t_3d , dim\",t_3d.ndim)\n",
    "print(\"t_3d , shape\",t_3d.shape)"
   ]
  },
  {
   "cell_type": "code",
   "execution_count": 61,
   "id": "caa77f3e-e715-4491-9ee9-0446c0178e9f",
   "metadata": {},
   "outputs": [
    {
     "name": "stdout",
     "output_type": "stream",
     "text": [
      "t_4d , dim 4\n",
      "t_4d , shape (2, 3, 2, 2)\n"
     ]
    }
   ],
   "source": [
    "data=np.random.rand(24)\n",
    "t_4d=data.reshape((2,3,2,2))\n",
    "print(\"t_4d , dim\",t_4d.ndim)\n",
    "print(\"t_4d , shape\",t_4d.shape)"
   ]
  },
  {
   "cell_type": "code",
   "execution_count": 85,
   "id": "d9dcc491-bb2f-407d-a8d5-c84118c324fe",
   "metadata": {},
   "outputs": [
    {
     "name": "stdout",
     "output_type": "stream",
     "text": [
      "[0.77132064 0.02075195 0.63364823 0.74880388 0.49850701]\n",
      "t_1d , dim 1\n",
      "t_1d , shape (5,)\n"
     ]
    }
   ],
   "source": [
    "np.random.seed(10)\n",
    "t_1d=np.random.rand(5)\n",
    "print(t_1d)\n",
    "print(\"t_1d , dim\",t_1d.ndim)\n",
    "print(\"t_1d , shape\",t_1d.shape)"
   ]
  },
  {
   "cell_type": "code",
   "execution_count": 81,
   "id": "caa5759b-8a60-486c-8840-3e165afb6c21",
   "metadata": {},
   "outputs": [
    {
     "name": "stdout",
     "output_type": "stream",
     "text": [
      "[[0.77132064 0.02075195 0.63364823 0.74880388 0.49850701]\n",
      " [0.22479665 0.19806286 0.76053071 0.16911084 0.08833981]]\n",
      "t_2d , dim 2\n",
      "t_2d , shape (2, 5)\n"
     ]
    }
   ],
   "source": [
    "np.random.seed(10)\n",
    "data=np.random.rand(10)\n",
    "t_2d=data.reshape((2,5))\n",
    "print(t_2d)\n",
    "print(\"t_2d , dim\",t_2d.ndim)\n",
    "print(\"t_2d , shape\",t_2d.shape)"
   ]
  },
  {
   "cell_type": "code",
   "execution_count": 95,
   "id": "82fe38eb-fccd-471f-bf59-7b3dcedc6304",
   "metadata": {},
   "outputs": [
    {
     "name": "stdout",
     "output_type": "stream",
     "text": [
      "[[[0.77132064 0.02075195]\n",
      "  [0.63364823 0.74880388]\n",
      "  [0.49850701 0.22479665]]\n",
      "\n",
      " [[0.19806286 0.76053071]\n",
      "  [0.16911084 0.08833981]\n",
      "  [0.68535982 0.95339335]]]\n",
      "t_3d , dim 3\n",
      "t_3d , shape (2, 3, 2)\n"
     ]
    }
   ],
   "source": [
    "np.random.seed(10)\n",
    "data=np.random.rand(12)\n",
    "t_3d=data.reshape((2,3,2))\n",
    "print(t_3d)\n",
    "print(\"t_3d , dim\",t_3d.ndim)\n",
    "print(\"t_3d , shape\",t_3d.shape)"
   ]
  },
  {
   "cell_type": "code",
   "execution_count": 101,
   "id": "393ce4ee-ebd9-4676-a036-61fe225fbdc8",
   "metadata": {},
   "outputs": [
    {
     "data": {
      "text/plain": [
       "0.0207519493594015"
      ]
     },
     "execution_count": 101,
     "metadata": {},
     "output_type": "execute_result"
    }
   ],
   "source": [
    "t_3d[0,0,1]"
   ]
  },
  {
   "cell_type": "code",
   "execution_count": 105,
   "id": "26897be6-ae02-4d07-80cd-1d1e3d6f3f0d",
   "metadata": {},
   "outputs": [
    {
     "data": {
      "text/plain": [
       "array([[0.77132064, 0.02075195],\n",
       "       [0.63364823, 0.74880388],\n",
       "       [0.49850701, 0.22479665]])"
      ]
     },
     "execution_count": 105,
     "metadata": {},
     "output_type": "execute_result"
    }
   ],
   "source": [
    "t_3d[0,:,:]"
   ]
  },
  {
   "cell_type": "code",
   "execution_count": 135,
   "id": "02adedce-79e3-45d2-a77d-4459b2d0573d",
   "metadata": {},
   "outputs": [
    {
     "data": {
      "text/plain": [
       "array([[9, 0, 1],\n",
       "       [7, 1, 7],\n",
       "       [2, 8, 0]])"
      ]
     },
     "execution_count": 135,
     "metadata": {},
     "output_type": "execute_result"
    }
   ],
   "source": [
    "np.random.seed(11)\n",
    "n1 = np.random.randint(0, 10, (3, 3))\n",
    "n2 = np.random.randint(0, 10, (3, 3))\n",
    "n1\n"
   ]
  },
  {
   "cell_type": "code",
   "execution_count": 139,
   "id": "19df3faf-bfee-4316-bf40-82418fdc5925",
   "metadata": {},
   "outputs": [
    {
     "data": {
      "text/plain": [
       "array([[0, 4, 2],\n",
       "       [1, 5, 5],\n",
       "       [7, 4, 1]])"
      ]
     },
     "execution_count": 139,
     "metadata": {},
     "output_type": "execute_result"
    }
   ],
   "source": [
    "n2"
   ]
  },
  {
   "cell_type": "code",
   "execution_count": 141,
   "id": "8c32e6f6-b71b-4e86-bbc7-5d2344b50209",
   "metadata": {},
   "outputs": [
    {
     "data": {
      "text/plain": [
       "array([[ 9,  4,  3],\n",
       "       [ 8,  6, 12],\n",
       "       [ 9, 12,  1]])"
      ]
     },
     "execution_count": 141,
     "metadata": {},
     "output_type": "execute_result"
    }
   ],
   "source": [
    "n1+n2"
   ]
  },
  {
   "cell_type": "code",
   "execution_count": 143,
   "id": "413ef8b1-7558-4a79-8898-c966af1cc76e",
   "metadata": {},
   "outputs": [
    {
     "data": {
      "text/plain": [
       "array([[ 9, -4, -1],\n",
       "       [ 6, -4,  2],\n",
       "       [-5,  4, -1]])"
      ]
     },
     "execution_count": 143,
     "metadata": {},
     "output_type": "execute_result"
    }
   ],
   "source": [
    "n1-n2"
   ]
  },
  {
   "cell_type": "code",
   "execution_count": 145,
   "id": "629c5431-7086-4afb-b44e-d7d9e20d5c0e",
   "metadata": {},
   "outputs": [
    {
     "data": {
      "text/plain": [
       "array([[ 0,  0,  2],\n",
       "       [ 7,  5, 35],\n",
       "       [14, 32,  0]])"
      ]
     },
     "execution_count": 145,
     "metadata": {},
     "output_type": "execute_result"
    }
   ],
   "source": [
    "n1*n2"
   ]
  },
  {
   "cell_type": "code",
   "execution_count": 147,
   "id": "c46f1606-d05b-450a-88c3-5eee3d8dd0de",
   "metadata": {},
   "outputs": [
    {
     "name": "stderr",
     "output_type": "stream",
     "text": [
      "C:\\Users\\K Jyothsna\\AppData\\Local\\Temp\\ipykernel_10092\\2406955990.py:1: RuntimeWarning: divide by zero encountered in divide\n",
      "  n1/n2\n"
     ]
    },
    {
     "data": {
      "text/plain": [
       "array([[       inf, 0.        , 0.5       ],\n",
       "       [7.        , 0.2       , 1.4       ],\n",
       "       [0.28571429, 2.        , 0.        ]])"
      ]
     },
     "execution_count": 147,
     "metadata": {},
     "output_type": "execute_result"
    }
   ],
   "source": [
    "n1/n2"
   ]
  },
  {
   "cell_type": "code",
   "execution_count": 149,
   "id": "d8a64cf6-4518-4634-bf70-0a6313d513d7",
   "metadata": {},
   "outputs": [
    {
     "data": {
      "text/plain": [
       "array([[ 7, 40, 19],\n",
       "       [50, 61, 26],\n",
       "       [ 8, 48, 44]])"
      ]
     },
     "execution_count": 149,
     "metadata": {},
     "output_type": "execute_result"
    }
   ],
   "source": [
    "n1@n2"
   ]
  },
  {
   "cell_type": "code",
   "execution_count": 151,
   "id": "13dc3299-f2a9-41d7-9ea3-43c33a297d12",
   "metadata": {},
   "outputs": [
    {
     "data": {
      "text/plain": [
       "array([[ 7, 40, 19],\n",
       "       [50, 61, 26],\n",
       "       [ 8, 48, 44]])"
      ]
     },
     "execution_count": 151,
     "metadata": {},
     "output_type": "execute_result"
    }
   ],
   "source": [
    "np.dot(n1,n2)"
   ]
  },
  {
   "cell_type": "code",
   "execution_count": 153,
   "id": "efabf0f2-1f7c-4ce6-ad01-9d31df34edb8",
   "metadata": {},
   "outputs": [
    {
     "data": {
      "text/plain": [
       "0"
      ]
     },
     "execution_count": 153,
     "metadata": {},
     "output_type": "execute_result"
    }
   ],
   "source": [
    "n1.min()"
   ]
  },
  {
   "cell_type": "code",
   "execution_count": 155,
   "id": "ef07c50d-d8bf-4776-a7a4-00bd7b335ffb",
   "metadata": {},
   "outputs": [
    {
     "data": {
      "text/plain": [
       "9"
      ]
     },
     "execution_count": 155,
     "metadata": {},
     "output_type": "execute_result"
    }
   ],
   "source": [
    "n1.max()"
   ]
  },
  {
   "cell_type": "code",
   "execution_count": 157,
   "id": "ffd94426-129b-40cb-86e1-3897f70c84a7",
   "metadata": {},
   "outputs": [
    {
     "data": {
      "text/plain": [
       "3.888888888888889"
      ]
     },
     "execution_count": 157,
     "metadata": {},
     "output_type": "execute_result"
    }
   ],
   "source": [
    "n1.mean()"
   ]
  },
  {
   "cell_type": "code",
   "execution_count": 159,
   "id": "8fd50e2d-5eee-4f00-8cd1-746f618167a7",
   "metadata": {},
   "outputs": [
    {
     "data": {
      "text/plain": [
       "3.5416394334464947"
      ]
     },
     "execution_count": 159,
     "metadata": {},
     "output_type": "execute_result"
    }
   ],
   "source": [
    "n1.std()"
   ]
  },
  {
   "cell_type": "code",
   "execution_count": 161,
   "id": "7c8a1554-566f-4340-89d0-cd3be2c1c7ec",
   "metadata": {},
   "outputs": [
    {
     "data": {
      "text/plain": [
       "35"
      ]
     },
     "execution_count": 161,
     "metadata": {},
     "output_type": "execute_result"
    }
   ],
   "source": [
    "n1.sum()"
   ]
  },
  {
   "cell_type": "code",
   "execution_count": 169,
   "id": "56b5efb2-1c7a-4e02-bbbc-c34d3fb4a2dc",
   "metadata": {},
   "outputs": [
    {
     "data": {
      "text/plain": [
       "array([ 1. ,  2.5,  4. ,  5.5,  7. ,  8.5, 10. ])"
      ]
     },
     "execution_count": 169,
     "metadata": {},
     "output_type": "execute_result"
    }
   ],
   "source": [
    "x=np.linspace(1,10,7)\n",
    "x"
   ]
  },
  {
   "cell_type": "code",
   "execution_count": 181,
   "id": "6cc52e8f-ae43-4863-843b-4969e7507ca4",
   "metadata": {},
   "outputs": [
    {
     "data": {
      "text/plain": [
       "array([1.00000000e+02, 9.60004081e+01, 9.20824406e+01, 8.82460973e+01,\n",
       "       8.44913784e+01, 8.08182838e+01, 7.72268136e+01, 7.37169677e+01,\n",
       "       7.02887460e+01, 6.69421488e+01, 6.36771758e+01, 6.04938272e+01,\n",
       "       5.73921028e+01, 5.43720029e+01, 5.14335272e+01, 4.85766758e+01,\n",
       "       4.58014488e+01, 4.31078461e+01, 4.04958678e+01, 3.79655137e+01,\n",
       "       3.55167840e+01, 3.31496786e+01, 3.08641975e+01, 2.86603408e+01,\n",
       "       2.65381084e+01, 2.44975003e+01, 2.25385165e+01, 2.06611570e+01,\n",
       "       1.88654219e+01, 1.71513111e+01, 1.55188246e+01, 1.39679625e+01,\n",
       "       1.24987246e+01, 1.11111111e+01, 9.80512193e+00, 8.58075707e+00,\n",
       "       7.43801653e+00, 6.37690032e+00, 5.39740843e+00, 4.49954086e+00,\n",
       "       3.68329762e+00, 2.94867871e+00, 2.29568411e+00, 1.72431385e+00,\n",
       "       1.23456790e+00, 8.26446281e-01, 4.99948985e-01, 2.55076013e-01,\n",
       "       9.18273646e-02, 1.02030405e-02, 1.02030405e-02, 9.18273646e-02,\n",
       "       2.55076013e-01, 4.99948985e-01, 8.26446281e-01, 1.23456790e+00,\n",
       "       1.72431385e+00, 2.29568411e+00, 2.94867871e+00, 3.68329762e+00,\n",
       "       4.49954086e+00, 5.39740843e+00, 6.37690032e+00, 7.43801653e+00,\n",
       "       8.58075707e+00, 9.80512193e+00, 1.11111111e+01, 1.24987246e+01,\n",
       "       1.39679625e+01, 1.55188246e+01, 1.71513111e+01, 1.88654219e+01,\n",
       "       2.06611570e+01, 2.25385165e+01, 2.44975003e+01, 2.65381084e+01,\n",
       "       2.86603408e+01, 3.08641975e+01, 3.31496786e+01, 3.55167840e+01,\n",
       "       3.79655137e+01, 4.04958678e+01, 4.31078461e+01, 4.58014488e+01,\n",
       "       4.85766758e+01, 5.14335272e+01, 5.43720029e+01, 5.73921028e+01,\n",
       "       6.04938272e+01, 6.36771758e+01, 6.69421488e+01, 7.02887460e+01,\n",
       "       7.37169677e+01, 7.72268136e+01, 8.08182838e+01, 8.44913784e+01,\n",
       "       8.82460973e+01, 9.20824406e+01, 9.60004081e+01, 1.00000000e+02])"
      ]
     },
     "execution_count": 181,
     "metadata": {},
     "output_type": "execute_result"
    }
   ],
   "source": [
    "def square(x):\n",
    "    return x*x\n",
    "x=np.linspace(-10,10,100)\n",
    "y=square(x)\n",
    "square(x)\n"
   ]
  },
  {
   "cell_type": "code",
   "execution_count": 183,
   "id": "34c12ab2-d21e-4261-815c-b26272b99d0d",
   "metadata": {},
   "outputs": [
    {
     "data": {
      "text/plain": [
       "[<matplotlib.lines.Line2D at 0x1df8dce7d10>]"
      ]
     },
     "execution_count": 183,
     "metadata": {},
     "output_type": "execute_result"
    },
    {
     "data": {
      "image/png": "[encoded data removed]",
      "text/plain": [
       "<Figure size 640x480 with 1 Axes>"
      ]
     },
     "metadata": {},
     "output_type": "display_data"
    }
   ],
   "source": [
    "import matplotlib.pyplot as plt\n",
    "plt.plot(x,y)"
   ]
  },
  {
   "cell_type": "code",
   "execution_count": 193,
   "id": "4d43ce34-2f9d-4525-8510-c72974e606cc",
   "metadata": {},
   "outputs": [
    {
     "data": {
      "text/plain": [
       "array([-1.00000000e+03, -9.40610059e+02, -8.83619379e+02, -8.28978490e+02,\n",
       "       -7.76637923e+02, -7.26548208e+02, -6.78659877e+02, -6.32923460e+02,\n",
       "       -5.89289487e+02, -5.47708490e+02, -5.08130999e+02, -4.70507545e+02,\n",
       "       -4.34788658e+02, -4.00924870e+02, -3.68866710e+02, -3.38564710e+02,\n",
       "       -3.09969401e+02, -2.83031313e+02, -2.57700977e+02, -2.33928923e+02,\n",
       "       -2.11665682e+02, -1.90861786e+02, -1.71467764e+02, -1.53434148e+02,\n",
       "       -1.36711467e+02, -1.21250254e+02, -1.07001038e+02, -9.39143501e+01,\n",
       "       -8.19407214e+01, -7.10306823e+01, -6.11347636e+01, -5.22034960e+01,\n",
       "       -4.41874103e+01, -3.70370370e+01, -3.07029070e+01, -2.51355510e+01,\n",
       "       -2.02854996e+01, -1.61032836e+01, -1.25394337e+01, -9.54448062e+00,\n",
       "       -7.06895503e+00, -5.06338768e+00, -3.47830926e+00, -2.26425050e+00,\n",
       "       -1.37174211e+00, -7.51314801e-01, -3.53499282e-01, -1.28826269e-01,\n",
       "       -2.78264741e-02, -1.03061015e-03,  1.03061015e-03,  2.78264741e-02,\n",
       "        1.28826269e-01,  3.53499282e-01,  7.51314801e-01,  1.37174211e+00,\n",
       "        2.26425050e+00,  3.47830926e+00,  5.06338768e+00,  7.06895503e+00,\n",
       "        9.54448062e+00,  1.25394337e+01,  1.61032836e+01,  2.02854996e+01,\n",
       "        2.51355510e+01,  3.07029070e+01,  3.70370370e+01,  4.41874103e+01,\n",
       "        5.22034960e+01,  6.11347636e+01,  7.10306823e+01,  8.19407214e+01,\n",
       "        9.39143501e+01,  1.07001038e+02,  1.21250254e+02,  1.36711467e+02,\n",
       "        1.53434148e+02,  1.71467764e+02,  1.90861786e+02,  2.11665682e+02,\n",
       "        2.33928923e+02,  2.57700977e+02,  2.83031313e+02,  3.09969401e+02,\n",
       "        3.38564710e+02,  3.68866710e+02,  4.00924870e+02,  4.34788658e+02,\n",
       "        4.70507545e+02,  5.08130999e+02,  5.47708490e+02,  5.89289487e+02,\n",
       "        6.32923460e+02,  6.78659877e+02,  7.26548208e+02,  7.76637923e+02,\n",
       "        8.28978490e+02,  8.83619379e+02,  9.40610059e+02,  1.00000000e+03])"
      ]
     },
     "execution_count": 193,
     "metadata": {},
     "output_type": "execute_result"
    }
   ],
   "source": [
    "def cube(x):\n",
    "    return x*x*x\n",
    "x=np.linspace(-10,10,100)\n",
    "y=cube(x)\n",
    "cube(x)"
   ]
  },
  {
   "cell_type": "code",
   "execution_count": 195,
   "id": "5ebb8275-58d1-4048-904a-845bf6de7ffc",
   "metadata": {},
   "outputs": [
    {
     "data": {
      "text/plain": [
       "[<matplotlib.lines.Line2D at 0x1df8ed4fd10>]"
      ]
     },
     "execution_count": 195,
     "metadata": {},
     "output_type": "execute_result"
    },
    {
     "data": {
      "image/png": "[encoded data removed]",
      "text/plain": [
       "<Figure size 640x480 with 1 Axes>"
      ]
     },
     "metadata": {},
     "output_type": "display_data"
    }
   ],
   "source": [
    "plt.plot(x,y)"
   ]
  },
  {
   "cell_type": "code",
   "execution_count": 201,
   "id": "88c9284f-a9fd-49a6-bed6-2e60695caa89",
   "metadata": {},
   "outputs": [
    {
     "data": {
      "text/plain": [
       "array([ 6.        ,  5.49877572,  5.04379307,  4.6323777 ,  4.26191924,\n",
       "        3.92987127,  3.63375132,  3.3711409 ,  3.13968548,  2.93709446,\n",
       "        2.76114124,  2.60966316,  2.48056152,  2.37180159,  2.28141258,\n",
       "        2.20748768,  2.14818404,  2.10172276,  2.06638891,  2.0405315 ,\n",
       "        2.02256353,  2.01096194,  2.00426764,  2.00108549,  2.00008432,\n",
       "        1.99999692,  1.99962003,  1.99781436,  1.99350457,  1.98567931,\n",
       "        1.97339114,  1.95575663,  1.93195629,  1.90123457,  1.86289991,\n",
       "        1.8163247 ,  1.76094529,  1.69626199,  1.62183907,  1.53730476,\n",
       "        1.44235125,  1.3367347 ,  1.22027521,  1.09285686,  0.95442768,\n",
       "        0.80499966,  0.64464875,  0.47351488,  0.2918019 ,  0.09977766,\n",
       "       -0.10222605, -0.31381348, -0.53452491, -0.76383667, -1.00116112,\n",
       "       -1.24584667, -1.49717776, -1.75437487, -2.01659453, -2.2829293 ,\n",
       "       -2.55240779, -2.82399464, -3.09659052, -3.36903217, -3.64009234,\n",
       "       -3.90847984, -4.17283951, -4.43175222, -4.6837349 , -4.92724052,\n",
       "       -5.16065806, -5.38231257, -5.59046513, -5.78331286, -5.95898892,\n",
       "       -6.1155625 , -6.25103885, -6.36335924, -6.450401  , -6.50997747,\n",
       "       -6.53983805, -6.53766819, -6.50108936, -6.42765907, -6.31487089,\n",
       "       -6.1601544 , -5.96087525, -5.7143351 , -5.41777168, -5.06835874,\n",
       "       -4.66320607, -4.1993595 , -3.67380091, -3.08344822, -2.42515538,\n",
       "       -1.69571237, -0.89184524, -0.01021605,  0.95257708,  2.        ])"
      ]
     },
     "execution_count": 201,
     "metadata": {},
     "output_type": "execute_result"
    }
   ],
   "source": [
    "def fun(x):\n",
    "    return x**4-3*x**3+2\n",
    "x=np.linspace(-1,3,100)\n",
    "y=fun(x)\n",
    "y"
   ]
  },
  {
   "cell_type": "code",
   "execution_count": 203,
   "id": "aac0e538-ea13-488f-8a87-1107c47153e6",
   "metadata": {},
   "outputs": [
    {
     "data": {
      "text/plain": [
       "[<matplotlib.lines.Line2D at 0x1df8fe20850>]"
      ]
     },
     "execution_count": 203,
     "metadata": {},
     "output_type": "execute_result"
    },
    {
     "data": {
      "image/png": "[encoded data removed]",
      "text/plain": [
       "<Figure size 640x480 with 1 Axes>"
      ]
     },
     "metadata": {},
     "output_type": "display_data"
    }
   ],
   "source": [
    "plt.plot(x,y)"
   ]
  },
  {
   "cell_type": "code",
   "execution_count": 223,
   "id": "034cd101-d5c7-47f7-9b2e-0efa756d9094",
   "metadata": {},
   "outputs": [
    {
     "data": {
      "text/plain": [
       "array([7, 2, 9, 2])"
      ]
     },
     "execution_count": 223,
     "metadata": {},
     "output_type": "execute_result"
    }
   ],
   "source": [
    "\n",
    "x=np.random.randint(1,10,4)\n",
    "x"
   ]
  },
  {
   "cell_type": "code",
   "execution_count": 241,
   "id": "0bb709b3-777a-4ed0-bd8a-30762045d123",
   "metadata": {},
   "outputs": [
    {
     "data": {
      "text/plain": [
       "array([0.9619666 , 0.26114034, 0.8637702 , 0.12687442])"
      ]
     },
     "execution_count": 241,
     "metadata": {},
     "output_type": "execute_result"
    }
   ],
   "source": [
    "\n",
    "w=np.random.rand(4)\n",
    "w"
   ]
  },
  {
   "cell_type": "code",
   "execution_count": 253,
   "id": "047efbb8-672b-47e3-8c64-5c32ea072bf7",
   "metadata": {},
   "outputs": [
    {
     "data": {
      "text/plain": [
       "1"
      ]
     },
     "execution_count": 253,
     "metadata": {},
     "output_type": "execute_result"
    }
   ],
   "source": [
    "def fun(x,w):\n",
    "    result=np.sum(np.multiply(x,w))\n",
    "    if result>0 or result==0:\n",
    "        return 1\n",
    "    else:\n",
    "        return 0\n",
    "    \n",
    "fun(x,w)    "
   ]
  },
  {
   "cell_type": "code",
   "execution_count": null,
   "id": "6fb94ae9-fb19-450f-a9a7-8e67c0adf857",
   "metadata": {},
   "outputs": [],
   "source": []
  }
 ],
 "metadata": {
  "kernelspec": {
   "display_name": "Python 3 (ipykernel)",
   "language": "python",
   "name": "python3"
  },
  "language_info": {
   "codemirror_mode": {
    "name": "ipython",
    "version": 3
   },
   "file_extension": ".py",
   "mimetype": "text/x-python",
   "name": "python",
   "nbconvert_exporter": "python",
   "pygments_lexer": "ipython3",
   "version": "3.11.7"
  }
 },
 "nbformat": 4,
 "nbformat_minor": 5
}
