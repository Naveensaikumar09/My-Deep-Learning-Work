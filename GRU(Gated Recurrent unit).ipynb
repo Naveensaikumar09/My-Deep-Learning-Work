{
 "cells": [
  {
   "cell_type": "markdown",
   "id": "a1687cf2",
   "metadata": {},
   "source": [
    "## GRU(Gated Recurrent unit) "
   ]
  },
  {
   "cell_type": "code",
   "execution_count": 1,
   "id": "99a8801c",
   "metadata": {},
   "outputs": [],
   "source": [
    "import numpy as np\n",
    "import pandas as pd\n",
    "import tensorflow as tf\n",
    "from sklearn.preprocessing import MinMaxScaler"
   ]
  },
  {
   "cell_type": "code",
   "execution_count": 3,
   "id": "e5759aae",
   "metadata": {},
   "outputs": [
    {
     "name": "stdout",
     "output_type": "stream",
     "text": [
      "Step 1: Creating Stock Price Dataset\n",
      "   Open Price  Close Price\n",
      "0         100          101\n",
      "1         102          103\n",
      "2         101          102\n",
      "3         103          104\n",
      "4         105          106\n"
     ]
    }
   ],
   "source": [
    "print(\"Step 1: Creating Stock Price Dataset\") \n",
    "data = {\n",
    "\"Open Price\": [100, 102, 101, 103, 105, 107, 108, 110, 109, 111, 112, 114, 113, 115, 117, 118, 119, 121, 120, 122, 123, 125, 124, 126, 127, 129, 130, 132, 131, 133],\n",
    "\"Close Price\": [101, 103, 102, 104, 106, 108, 109, 111, 110, 112, 113, 115, 114, 116, 118, 119, 120, 122, 121, 123, 124, 126, 125, 127, 128, 130, 131, 133, 132, 134]\n",
    "}\n",
    "df = pd.DataFrame(data)\n",
    "print(df.head())"
   ]
  },
  {
   "cell_type": "code",
   "execution_count": 4,
   "id": "10db963b",
   "metadata": {},
   "outputs": [
    {
     "name": "stdout",
     "output_type": "stream",
     "text": [
      "Step 2: Normalizing Data\n",
      "[[0.         0.        ]\n",
      " [0.06060606 0.06060606]\n",
      " [0.03030303 0.03030303]\n",
      " [0.09090909 0.09090909]\n",
      " [0.15151515 0.15151515]]\n",
      "Step 3: Preparing Sequences\n"
     ]
    }
   ],
   "source": [
    "# Step 2: Normalizing Data\n",
    "print(\"Step 2: Normalizing Data\") \n",
    "scaler = MinMaxScaler()\n",
    "scaled_data = scaler.fit_transform(df) \n",
    "print(scaled_data[:5])\n",
    "# Step 3: Preparing Sequences\n",
    "print(\"Step 3: Preparing Sequences\")"
   ]
  },
  {
   "cell_type": "code",
   "execution_count": 5,
   "id": "44193ffe",
   "metadata": {},
   "outputs": [
    {
     "name": "stdout",
     "output_type": "stream",
     "text": [
      "Sample X_seq: [[[0.         0.        ]\n",
      "  [0.06060606 0.06060606]\n",
      "  [0.03030303 0.03030303]]\n",
      "\n",
      " [[0.06060606 0.06060606]\n",
      "  [0.03030303 0.03030303]\n",
      "  [0.09090909 0.09090909]]]\n",
      "Sample y_seq: [[0.09090909 0.09090909]\n",
      " [0.15151515 0.15151515]]\n"
     ]
    }
   ],
   "source": [
    "seq_length = 3\n",
    "X_seq = [scaled_data[i:i+seq_length] for i in range(len(scaled_data) - seq_length)]\n",
    "y_seq = [scaled_data[i+seq_length] for i in range(len(scaled_data) - seq_length)]\n",
    "X_seq, y_seq = np.array(X_seq), np.array(y_seq)\n",
    "print(\"Sample X_seq:\", X_seq[:2])\n",
    "print(\"Sample y_seq:\", y_seq[:2])"
   ]
  },
  {
   "cell_type": "code",
   "execution_count": 6,
   "id": "b8610664",
   "metadata": {},
   "outputs": [
    {
     "name": "stdout",
     "output_type": "stream",
     "text": [
      "Step 4: Building and Training GRU Model\n"
     ]
    },
    {
     "name": "stderr",
     "output_type": "stream",
     "text": [
      "/Users/naveensai/anaconda3/lib/python3.11/site-packages/keras/src/layers/rnn/rnn.py:200: UserWarning: Do not pass an `input_shape`/`input_dim` argument to a layer. When using Sequential models, prefer using an `Input(shape)` object as the first layer in the model instead.\n",
      "  super().__init__(**kwargs)\n"
     ]
    },
    {
     "name": "stdout",
     "output_type": "stream",
     "text": [
      "Model training complete.\n"
     ]
    }
   ],
   "source": [
    "print(\"Step 4: Building and Training GRU Model\") \n",
    "model = tf.keras.Sequential([\n",
    "tf.keras.layers.GRU(50, input_shape=(seq_length, 2)),\n",
    "tf.keras.layers.Dense(2) ])\n",
    "model.compile(optimizer='adam', loss='mse') \n",
    "model.fit(X_seq, y_seq, epochs=20, batch_size=8, verbose=0)\n",
    "print(\"Model training complete.\")"
   ]
  },
  {
   "cell_type": "code",
   "execution_count": 9,
   "id": "01561261",
   "metadata": {},
   "outputs": [
    {
     "name": "stdout",
     "output_type": "stream",
     "text": [
      "Step 5: Predicting Next Day Stock Prices\n",
      "\u001b[1m1/1\u001b[0m \u001b[32m━━━━━━━━━━━━━━━━━━━━\u001b[0m\u001b[37m\u001b[0m \u001b[1m0s\u001b[0m 110ms/step\n",
      "Predicted (Open, Close): [130.60286 131.02611]\n",
      "Actual (Open, Close): [133. 134.]\n",
      "Error (Open, Close): [2.3971405  2.97389221]\n"
     ]
    }
   ],
   "source": [
    "print(\"Step 5: Predicting Next Day Stock Prices\")\n",
    "predicted_price = scaler.inverse_transform(model.predict(X_seq[-1].reshape(1, seq_length, 2)))\n",
    "actual_price = scaler.inverse_transform(y_seq[-1].reshape(1, -1))\n",
    "error = np.abs(predicted_price - actual_price)\n",
    "print(\"Predicted (Open, Close):\", predicted_price[0]) \n",
    "print(\"Actual (Open, Close):\", actual_price[0])\n",
    "print(\"Error (Open, Close):\", error[0])"
   ]
  },
  {
   "cell_type": "code",
   "execution_count": null,
   "id": "7cd30229",
   "metadata": {},
   "outputs": [],
   "source": []
  }
 ],
 "metadata": {
  "kernelspec": {
   "display_name": "Python 3 (ipykernel)",
   "language": "python",
   "name": "python3"
  },
  "language_info": {
   "codemirror_mode": {
    "name": "ipython",
    "version": 3
   },
   "file_extension": ".py",
   "mimetype": "text/x-python",
   "name": "python",
   "nbconvert_exporter": "python",
   "pygments_lexer": "ipython3",
   "version": "3.11.11"
  }
 },
 "nbformat": 4,
 "nbformat_minor": 5
}
