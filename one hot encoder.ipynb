{
 "cells": [
  {
   "cell_type": "code",
   "execution_count": null,
   "id": "867ad7a4-b6ae-48e6-9dd7-b6894762ab17",
   "metadata": {},
   "outputs": [],
   "source": []
  },
  {
   "cell_type": "code",
   "execution_count": 8,
   "id": "91928ed8-d74a-438e-96bc-c2eada2d6403",
   "metadata": {},
   "outputs": [],
   "source": [
    "import numpy as np \n",
    "from tensorflow.keras.preprocessing.text import Tokenizer "
   ]
  },
  {
   "cell_type": "code",
   "execution_count": 10,
   "id": "bbbf5293-90e4-4bb7-a7ec-81d063f98afc",
   "metadata": {},
   "outputs": [],
   "source": [
    "sentences=[\"I love AI\",\"AI is powerful\",\"I love deep learning\"]\n",
    "tokenizer=Tokenizer()\n",
    "tokenizer.fit_on_texts(sentences)\n",
    "sequences=tokenizer.texts_to_sequences(sentences)\n",
    "vocab_size=len(tokenizer.word_index)+1\n",
    "def one_hot_encode(sequences,vocab_size):\n",
    "    return [np.eye(vocab_size)[seq] for seq in sequences]"
   ]
  },
  {
   "cell_type": "code",
   "execution_count": 18,
   "id": "45ae0fb5-94d8-4763-9bdb-47fb9177087b",
   "metadata": {},
   "outputs": [
    {
     "data": {
      "text/plain": [
       "[array([[0., 1., 0., 0., 0., 0., 0., 0.],\n",
       "        [0., 0., 1., 0., 0., 0., 0., 0.],\n",
       "        [0., 0., 0., 1., 0., 0., 0., 0.]]),\n",
       " array([[0., 0., 0., 1., 0., 0., 0., 0.],\n",
       "        [0., 0., 0., 0., 1., 0., 0., 0.],\n",
       "        [0., 0., 0., 0., 0., 1., 0., 0.]]),\n",
       " array([[0., 1., 0., 0., 0., 0., 0., 0.],\n",
       "        [0., 0., 1., 0., 0., 0., 0., 0.],\n",
       "        [0., 0., 0., 0., 0., 0., 1., 0.],\n",
       "        [0., 0., 0., 0., 0., 0., 0., 1.]])]"
      ]
     },
     "execution_count": 18,
     "metadata": {},
     "output_type": "execute_result"
    }
   ],
   "source": [
    "one_hot_vectors =one_hot_encode(sequences,vocab_size)\n",
    "one_hot_vectors "
   ]
  },
  {
   "cell_type": "code",
   "execution_count": 24,
   "id": "93238d44-b1b5-4bd4-920b-2d69f35cba11",
   "metadata": {},
   "outputs": [
    {
     "name": "stdout",
     "output_type": "stream",
     "text": [
      "\n",
      " Vocabulary Mapping: {'i': 1, 'love': 2, 'ai': 3, 'is': 4, 'powerful': 5, 'deep': 6, 'learning': 7}\n",
      "\n",
      " One-Hot Encoding for first sentence:\n",
      "I → [0. 1. 0. 0. 0. 0. 0. 0.]\n",
      "love → [0. 0. 1. 0. 0. 0. 0. 0.]\n",
      "AI → [0. 0. 0. 1. 0. 0. 0. 0.]\n"
     ]
    }
   ],
   "source": [
    "print(\"\\n Vocabulary Mapping:\", tokenizer.word_index) \n",
    "print(\"\\n One-Hot Encoding for first sentence:\") \n",
    "for word, vector in zip(sentences[0].split(), one_hot_vectors[0]): \n",
    "    print(f\"{word} → {vector}\") "
   ]
  },
  {
   "cell_type": "code",
   "execution_count": null,
   "id": "926a10a9-5c27-4d5f-ae77-b6522113a8a2",
   "metadata": {},
   "outputs": [],
   "source": []
  }
 ],
 "metadata": {
  "kernelspec": {
   "display_name": "Python 3 (ipykernel)",
   "language": "python",
   "name": "python3"
  },
  "language_info": {
   "codemirror_mode": {
    "name": "ipython",
    "version": 3
   },
   "file_extension": ".py",
   "mimetype": "text/x-python",
   "name": "python",
   "nbconvert_exporter": "python",
   "pygments_lexer": "ipython3",
   "version": "3.11.7"
  }
 },
 "nbformat": 4,
 "nbformat_minor": 5
}
